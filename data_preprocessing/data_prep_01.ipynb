{
 "cells": [
  {
   "cell_type": "markdown",
   "metadata": {},
   "source": [
    "# LTDS Data Processing\n",
    "\n",
    "This notebook is developed to process the London Travel Demand Survey (LTDS) data.\n"
   ]
  },
  {
   "cell_type": "code",
   "execution_count": 2,
   "metadata": {},
   "outputs": [],
   "source": [
    "import pandas as pd\n",
    "import numpy as np\n",
    "import matplotlib.pyplot as plt\n",
    "import seaborn as sns\n",
    "from sklearn.preprocessing import StandardScaler\n",
    "from sklearn.decomposition import PCA\n",
    "from sklearn.cluster import KMeans"
   ]
  },
  {
   "cell_type": "code",
   "execution_count": 4,
   "metadata": {},
   "outputs": [],
   "source": [
    "# Load the data\n",
    "data_set_metadata = pd.read_excel(r'/mnt/d/University College London/Chen, Huanfa - Dissertation_Mengyu_Ding/Data/ltds-0523-acc.xlsx', sheet_name='Cover' )"
   ]
  },
  {
   "cell_type": "code",
   "execution_count": 5,
   "metadata": {},
   "outputs": [
    {
     "data": {
      "text/html": [
       "<div>\n",
       "<style scoped>\n",
       "    .dataframe tbody tr th:only-of-type {\n",
       "        vertical-align: middle;\n",
       "    }\n",
       "\n",
       "    .dataframe tbody tr th {\n",
       "        vertical-align: top;\n",
       "    }\n",
       "\n",
       "    .dataframe thead th {\n",
       "        text-align: right;\n",
       "    }\n",
       "</style>\n",
       "<table border=\"1\" class=\"dataframe\">\n",
       "  <thead>\n",
       "    <tr style=\"text-align: right;\">\n",
       "      <th></th>\n",
       "      <th>Unnamed: 0</th>\n",
       "      <th>Unnamed: 1</th>\n",
       "    </tr>\n",
       "  </thead>\n",
       "  <tbody>\n",
       "    <tr>\n",
       "      <th>0</th>\n",
       "      <td>NaN</td>\n",
       "      <td>London Travel Demand Survey (LTDS)</td>\n",
       "    </tr>\n",
       "    <tr>\n",
       "      <th>1</th>\n",
       "      <td>NaN</td>\n",
       "      <td>2005/06-2022/23</td>\n",
       "    </tr>\n",
       "    <tr>\n",
       "      <th>2</th>\n",
       "      <td>NaN</td>\n",
       "      <td>NaN</td>\n",
       "    </tr>\n",
       "    <tr>\n",
       "      <th>3</th>\n",
       "      <td>NaN</td>\n",
       "      <td>This workbook contains tables with the main hi...</td>\n",
       "    </tr>\n",
       "    <tr>\n",
       "      <th>4</th>\n",
       "      <td>NaN</td>\n",
       "      <td>NaN</td>\n",
       "    </tr>\n",
       "    <tr>\n",
       "      <th>5</th>\n",
       "      <td>NaN</td>\n",
       "      <td>Notes:</td>\n",
       "    </tr>\n",
       "    <tr>\n",
       "      <th>6</th>\n",
       "      <td>NaN</td>\n",
       "      <td>Whole-week weights are the default weights use...</td>\n",
       "    </tr>\n",
       "    <tr>\n",
       "      <th>7</th>\n",
       "      <td>NaN</td>\n",
       "      <td>Summary shopping trips are excluded (excluding...</td>\n",
       "    </tr>\n",
       "    <tr>\n",
       "      <th>8</th>\n",
       "      <td>NaN</td>\n",
       "      <td>Trips wholly outside Greater London are excluded.</td>\n",
       "    </tr>\n",
       "    <tr>\n",
       "      <th>9</th>\n",
       "      <td>NaN</td>\n",
       "      <td>Data is not available for years 2020/21 and 20...</td>\n",
       "    </tr>\n",
       "    <tr>\n",
       "      <th>10</th>\n",
       "      <td>NaN</td>\n",
       "      <td>NaN</td>\n",
       "    </tr>\n",
       "    <tr>\n",
       "      <th>11</th>\n",
       "      <td>NaN</td>\n",
       "      <td>For queries or mor information lease contact L...</td>\n",
       "    </tr>\n",
       "    <tr>\n",
       "      <th>12</th>\n",
       "      <td>NaN</td>\n",
       "      <td>NaN</td>\n",
       "    </tr>\n",
       "    <tr>\n",
       "      <th>13</th>\n",
       "      <td>NaN</td>\n",
       "      <td>NaN</td>\n",
       "    </tr>\n",
       "    <tr>\n",
       "      <th>14</th>\n",
       "      <td>NaN</td>\n",
       "      <td>Go to List of tables</td>\n",
       "    </tr>\n",
       "  </tbody>\n",
       "</table>\n",
       "</div>"
      ],
      "text/plain": [
       "    Unnamed: 0                                         Unnamed: 1\n",
       "0          NaN                 London Travel Demand Survey (LTDS)\n",
       "1          NaN                                    2005/06-2022/23\n",
       "2          NaN                                                NaN\n",
       "3          NaN  This workbook contains tables with the main hi...\n",
       "4          NaN                                                NaN\n",
       "5          NaN                                             Notes:\n",
       "6          NaN  Whole-week weights are the default weights use...\n",
       "7          NaN  Summary shopping trips are excluded (excluding...\n",
       "8          NaN  Trips wholly outside Greater London are excluded.\n",
       "9          NaN  Data is not available for years 2020/21 and 20...\n",
       "10         NaN                                                NaN\n",
       "11         NaN  For queries or mor information lease contact L...\n",
       "12         NaN                                                NaN\n",
       "13         NaN                                                NaN\n",
       "14         NaN                               Go to List of tables"
      ]
     },
     "execution_count": 5,
     "metadata": {},
     "output_type": "execute_result"
    }
   ],
   "source": [
    "data_set_metadata"
   ]
  },
  {
   "cell_type": "code",
   "execution_count": null,
   "metadata": {},
   "outputs": [],
   "source": []
  },
  {
   "cell_type": "markdown",
   "metadata": {},
   "source": [
    "Well, this dataset is a bit too high-level, it is an aggregated 'mode-share', average 'trip-time' and 'distance' dataset, does not contain individual choice of travel that is fine as the VISTA Survey in Melbourne, looking into other datasets for now.\n",
    "\n",
    "However, this one is a good general reference.\n",
    "\n",
    "In case any thing funny was given by the API, this general reference of time/distance, can help identify anomaly."
   ]
  },
  {
   "cell_type": "markdown",
   "metadata": {},
   "source": [
    "__for now__ Focus on LSOA Centroids"
   ]
  },
  {
   "cell_type": "markdown",
   "metadata": {},
   "source": [
    "For comparing navigation API performance for London using origin-destination (OD) data:\n",
    "\n",
    "OpenStreetMap (OSM) Data:\n",
    "        OD Matrices: You can generate OD matrices using tools like OSMnx, which can extract street networks from OSM data. You can simulate trips between various origins and destinations within London.\n",
    "        Routing and Navigation APIs: Tools such as GraphHopper or pgRouting can use OSM data to create route recommendations, which you can then compare to commercial APIs.\n",
    "\n",
    "Commercial APIs:\n",
    "        Google Maps API: Provides access to their routing algorithms, allowing you to retrieve directions and estimated travel times between specific OD pairs.\n",
    "        HERE Technologies: Offers a Routing API that provides directions for different modes of transport, which can be used for comparative analysis.\n",
    "        Mapbox Directions API: Another robust tool offering detailed routes and travel data.\n",
    "\n",
    "Transport for London (TfL) APIs:\n",
    "        Unified API: Contains various transportation data, including live traffic disruptions and roadworks which might impact navigation and routing decisions.\n",
    "\n",
    "UK Government Datasets:\n",
    "        Road Safety Data: Provides detailed reports on accidents, which could help in understanding traffic patterns and potential delays in routes.\n",
    "        Urban Big Data Centre: They sometimes offer transport and mobility datasets for major UK cities, including London, which may include OD information.\n",
    "\n",
    "Academic or Research-Based Sources:\n",
    "        UK Data Service: They provide access to a range of datasets, some of which include detailed travel surveys and potentially useful OD data.\n",
    "        Local Universities or Transportation Research Centers: Sometimes partnerships with academic institutions can provide access to proprietary datasets that are not publicly available.\n",
    "\n",
    "Simulated Data:\n",
    "        If real-world data is insufficient, you might consider simulating detailed OD travel data based on known traffic patterns and demographic distributions using software like SUMO (Simulation of Urban MObility).\n",
    "\n",
    "When using these data sources, you'll need to consider the format and the accessibility of the data, as well as any licensing or usage restrictions. It's also crucial to ensure that the time periods and conditions represented in your datasets are consistent across different sources for a fair comparison.\n"
   ]
  },
  {
   "cell_type": "markdown",
   "metadata": {},
   "source": [
    "https://www.ucl.ac.uk/consultants/sites/consultants/files/maas_car_study_january_2018.pdf"
   ]
  },
  {
   "cell_type": "markdown",
   "metadata": {},
   "source": [
    "https://towardsdatascience.com/how-to-calculate-travel-time-for-any-location-in-the-world-56ce639511f\n",
    "\n",
    "\n",
    "https://www.gov.uk/government/collections/national-travel-survey-statistics\n",
    "\n",
    "\n",
    "https://doc.ukdataservice.ac.uk/doc/5340/mrdoc/pdf/5340_nts_data_extract_user_guide_nts_2022.pdf\n",
    "\n",
    "\n",
    "https://discover.data.vic.gov.au/dataset/victorian-integrated-survey-of-travel-and-activity\n",
    "\n",
    "\n"
   ]
  },
  {
   "cell_type": "markdown",
   "metadata": {},
   "source": []
  }
 ],
 "metadata": {
  "kernelspec": {
   "display_name": "Python 3",
   "language": "python",
   "name": "python3"
  },
  "language_info": {
   "codemirror_mode": {
    "name": "ipython",
    "version": 3
   },
   "file_extension": ".py",
   "mimetype": "text/x-python",
   "name": "python",
   "nbconvert_exporter": "python",
   "pygments_lexer": "ipython3",
   "version": "3.10.12"
  }
 },
 "nbformat": 4,
 "nbformat_minor": 2
}
