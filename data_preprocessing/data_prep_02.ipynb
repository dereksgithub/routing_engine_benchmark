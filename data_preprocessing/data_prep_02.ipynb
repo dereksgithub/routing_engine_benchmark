{
 "cells": [
  {
   "cell_type": "markdown",
   "metadata": {},
   "source": [
    "LSOA Centroids Create Empty OD Matrix.\n",
    "\n"
   ]
  },
  {
   "cell_type": "code",
   "execution_count": 1,
   "metadata": {},
   "outputs": [],
   "source": [
    "import pandas as pd\n",
    "import geopandas as gpd\n",
    "\n",
    "\n",
    "import numpy as np\n",
    "\n",
    "import matplotlib.pyplot as plt\n",
    "import seaborn as sns\n",
    "\n",
    "# time module, to record the time taken to run the code\n",
    "import time\n",
    "\n",
    "from sklearn.preprocessing import StandardScaler\n",
    "from sklearn.decomposition import PCA\n",
    "from sklearn.cluster import KMeans"
   ]
  },
  {
   "cell_type": "markdown",
   "metadata": {},
   "source": [
    "## Get all London LSOAs:\n",
    "\n",
    "downloaded from: https://data.london.gov.uk/dataset/2011-boundary-files\n",
    "\n"
   ]
  },
  {
   "cell_type": "code",
   "execution_count": 7,
   "metadata": {},
   "outputs": [
    {
     "name": "stderr",
     "output_type": "stream",
     "text": [
      "/tmp/ipykernel_30425/2031910545.py:1: DtypeWarning: Columns (174,175,176,178,189,253,254) have mixed types. Specify dtype option on import or set low_memory=False.\n",
      "  lsoa_london = pd.read_csv(r'/mnt/d/University College London/Chen, Huanfa - Dissertation_Mengyu_Ding/Data/lsoa-data.csv', encoding='latin1')\n"
     ]
    }
   ],
   "source": [
    "lsoa_london = pd.read_csv(r'/mnt/d/University College London/Chen, Huanfa - Dissertation_Mengyu_Ding/Data/lsoa-data.csv', encoding='latin1')\n"
   ]
  },
  {
   "cell_type": "code",
   "execution_count": 8,
   "metadata": {},
   "outputs": [],
   "source": [
    "# read in column: Lower Super Output Area as a list\n",
    "lsoa = lsoa_london['Lower Super Output Area'].tolist()"
   ]
  },
  {
   "cell_type": "code",
   "execution_count": 10,
   "metadata": {},
   "outputs": [],
   "source": [
    "# drop any na values in list:\n",
    "lsoa = [x for x in lsoa if str(x) != 'nan']"
   ]
  },
  {
   "cell_type": "code",
   "execution_count": 11,
   "metadata": {},
   "outputs": [
    {
     "data": {
      "text/plain": [
       "4835"
      ]
     },
     "execution_count": 11,
     "metadata": {},
     "output_type": "execute_result"
    }
   ],
   "source": [
    "# count how many lsoas:\n",
    "len(lsoa)"
   ]
  },
  {
   "cell_type": "markdown",
   "metadata": {},
   "source": [
    "## Get the shapefile of all England LSOAs, clip out only London ones, and collect their lsoa geo-centroid\n",
    "\n",
    "data for boundaries downloaded from: https://data.london.gov.uk/dataset/2011-boundary-files\n"
   ]
  },
  {
   "cell_type": "code",
   "execution_count": 49,
   "metadata": {},
   "outputs": [],
   "source": [
    "import geopandas as gpd\n",
    "\n",
    "# Load the LSOA shapefile\n",
    "england_lsoa_shapefile = r'/mnt/d/University College London/Chen, Huanfa - Dissertation_Mengyu_Ding/Data/england_lsoa_2011.shp'\n",
    "gdf = gpd.read_file(england_lsoa_shapefile)\n"
   ]
  },
  {
   "cell_type": "code",
   "execution_count": 55,
   "metadata": {},
   "outputs": [
    {
     "data": {
      "text/html": [
       "<div>\n",
       "<style scoped>\n",
       "    .dataframe tbody tr th:only-of-type {\n",
       "        vertical-align: middle;\n",
       "    }\n",
       "\n",
       "    .dataframe tbody tr th {\n",
       "        vertical-align: top;\n",
       "    }\n",
       "\n",
       "    .dataframe thead th {\n",
       "        text-align: right;\n",
       "    }\n",
       "</style>\n",
       "<table border=\"1\" class=\"dataframe\">\n",
       "  <thead>\n",
       "    <tr style=\"text-align: right;\">\n",
       "      <th></th>\n",
       "      <th>code</th>\n",
       "      <th>name</th>\n",
       "      <th>label</th>\n",
       "      <th>geometry</th>\n",
       "      <th>centroid</th>\n",
       "      <th>lat</th>\n",
       "      <th>lon</th>\n",
       "    </tr>\n",
       "  </thead>\n",
       "  <tbody>\n",
       "    <tr>\n",
       "      <th>0</th>\n",
       "      <td>E01000037</td>\n",
       "      <td>Barking and Dagenham 003B</td>\n",
       "      <td>E09000002E02000004E01000037</td>\n",
       "      <td>POLYGON ((0.18508 51.56480, 0.18476 51.56454, ...</td>\n",
       "      <td>POINT (0.17951 51.56252)</td>\n",
       "      <td>51.562520</td>\n",
       "      <td>0.179507</td>\n",
       "    </tr>\n",
       "    <tr>\n",
       "      <th>1</th>\n",
       "      <td>E01000038</td>\n",
       "      <td>Barking and Dagenham 003C</td>\n",
       "      <td>E09000002E02000004E01000038</td>\n",
       "      <td>POLYGON ((0.17599 51.56476, 0.17601 51.56475, ...</td>\n",
       "      <td>POINT (0.17308 51.56315)</td>\n",
       "      <td>51.563148</td>\n",
       "      <td>0.173084</td>\n",
       "    </tr>\n",
       "    <tr>\n",
       "      <th>2</th>\n",
       "      <td>E01000039</td>\n",
       "      <td>Barking and Dagenham 003D</td>\n",
       "      <td>E09000002E02000004E01000039</td>\n",
       "      <td>POLYGON ((0.18318 51.56090, 0.18336 51.56076, ...</td>\n",
       "      <td>POINT (0.17875 51.55272)</td>\n",
       "      <td>51.552723</td>\n",
       "      <td>0.178750</td>\n",
       "    </tr>\n",
       "    <tr>\n",
       "      <th>3</th>\n",
       "      <td>E01000040</td>\n",
       "      <td>Barking and Dagenham 019A</td>\n",
       "      <td>E09000002E02000020E01000040</td>\n",
       "      <td>POLYGON ((0.10095 51.53750, 0.10095 51.53750, ...</td>\n",
       "      <td>POINT (0.09745 51.53663)</td>\n",
       "      <td>51.536627</td>\n",
       "      <td>0.097454</td>\n",
       "    </tr>\n",
       "    <tr>\n",
       "      <th>4</th>\n",
       "      <td>E01000041</td>\n",
       "      <td>Barking and Dagenham 017A</td>\n",
       "      <td>E09000002E02000018E01000041</td>\n",
       "      <td>POLYGON ((0.12194 51.53924, 0.12194 51.53922, ...</td>\n",
       "      <td>POINT (0.11613 51.53816)</td>\n",
       "      <td>51.538159</td>\n",
       "      <td>0.116128</td>\n",
       "    </tr>\n",
       "  </tbody>\n",
       "</table>\n",
       "</div>"
      ],
      "text/plain": [
       "        code                       name                        label  \\\n",
       "0  E01000037  Barking and Dagenham 003B  E09000002E02000004E01000037   \n",
       "1  E01000038  Barking and Dagenham 003C  E09000002E02000004E01000038   \n",
       "2  E01000039  Barking and Dagenham 003D  E09000002E02000004E01000039   \n",
       "3  E01000040  Barking and Dagenham 019A  E09000002E02000020E01000040   \n",
       "4  E01000041  Barking and Dagenham 017A  E09000002E02000018E01000041   \n",
       "\n",
       "                                            geometry  \\\n",
       "0  POLYGON ((0.18508 51.56480, 0.18476 51.56454, ...   \n",
       "1  POLYGON ((0.17599 51.56476, 0.17601 51.56475, ...   \n",
       "2  POLYGON ((0.18318 51.56090, 0.18336 51.56076, ...   \n",
       "3  POLYGON ((0.10095 51.53750, 0.10095 51.53750, ...   \n",
       "4  POLYGON ((0.12194 51.53924, 0.12194 51.53922, ...   \n",
       "\n",
       "                   centroid        lat       lon  \n",
       "0  POINT (0.17951 51.56252)  51.562520  0.179507  \n",
       "1  POINT (0.17308 51.56315)  51.563148  0.173084  \n",
       "2  POINT (0.17875 51.55272)  51.552723  0.178750  \n",
       "3  POINT (0.09745 51.53663)  51.536627  0.097454  \n",
       "4  POINT (0.11613 51.53816)  51.538159  0.116128  "
      ]
     },
     "execution_count": 55,
     "metadata": {},
     "output_type": "execute_result"
    }
   ],
   "source": [
    "gdf.head()"
   ]
  },
  {
   "cell_type": "code",
   "execution_count": 48,
   "metadata": {},
   "outputs": [
    {
     "data": {
      "text/plain": [
       "<Projected CRS: EPSG:27700>\n",
       "Name: OSGB36 / British National Grid\n",
       "Axis Info [cartesian]:\n",
       "- E[east]: Easting (metre)\n",
       "- N[north]: Northing (metre)\n",
       "Area of Use:\n",
       "- name: United Kingdom (UK) - offshore to boundary of UKCS within 49°45'N to 61°N and 9°W to 2°E; onshore Great Britain (England, Wales and Scotland). Isle of Man onshore.\n",
       "- bounds: (-9.01, 49.75, 2.01, 61.01)\n",
       "Coordinate Operation:\n",
       "- name: British National Grid\n",
       "- method: Transverse Mercator\n",
       "Datum: Ordnance Survey of Great Britain 1936\n",
       "- Ellipsoid: Airy 1830\n",
       "- Prime Meridian: Greenwich"
      ]
     },
     "execution_count": 48,
     "metadata": {},
     "output_type": "execute_result"
    }
   ],
   "source": [
    "# show gdf coordinate reference system:\n",
    "gdf.crs"
   ]
  },
  {
   "cell_type": "code",
   "execution_count": 51,
   "metadata": {},
   "outputs": [],
   "source": [
    "# convert EPSG:27700 to EPSG:4326:\n",
    "gdf = gdf.to_crs(epsg=4326)"
   ]
  },
  {
   "cell_type": "markdown",
   "metadata": {},
   "source": [
    "now find the centroids:"
   ]
  },
  {
   "cell_type": "code",
   "execution_count": 54,
   "metadata": {},
   "outputs": [
    {
     "name": "stderr",
     "output_type": "stream",
     "text": [
      "/tmp/ipykernel_30425/3775903783.py:2: UserWarning: Geometry is in a geographic CRS. Results from 'centroid' are likely incorrect. Use 'GeoSeries.to_crs()' to re-project geometries to a projected CRS before this operation.\n",
      "\n",
      "  gdf['centroid'] = gdf.geometry.centroid\n",
      "/tmp/ipykernel_30425/3775903783.py:5: UserWarning: Geometry is in a geographic CRS. Results from 'centroid' are likely incorrect. Use 'GeoSeries.to_crs()' to re-project geometries to a projected CRS before this operation.\n",
      "\n",
      "  gdf['lat'] = gdf.centroid.y\n",
      "/tmp/ipykernel_30425/3775903783.py:6: UserWarning: Geometry is in a geographic CRS. Results from 'centroid' are likely incorrect. Use 'GeoSeries.to_crs()' to re-project geometries to a projected CRS before this operation.\n",
      "\n",
      "  gdf['lon'] = gdf.centroid.x\n"
     ]
    }
   ],
   "source": [
    "# Calculate centroids\n",
    "gdf['centroid'] = gdf.geometry.centroid\n",
    "\n",
    "# Extract the lat and long of the centroids\n",
    "gdf['lat'] = gdf.centroid.y\n",
    "gdf['lon'] = gdf.centroid.x"
   ]
  },
  {
   "cell_type": "code",
   "execution_count": 56,
   "metadata": {},
   "outputs": [],
   "source": [
    "# clip out only the london lsoas\n",
    "lsoa_london = gdf[gdf['code'].isin(lsoa)]"
   ]
  },
  {
   "cell_type": "code",
   "execution_count": 58,
   "metadata": {},
   "outputs": [],
   "source": [
    "# now plot the london lsoas centroids on a map with folium:\n",
    "import folium\n",
    "\n",
    "# Create a map centered on London\n",
    "m = folium.Map(location=[51.5074, -0.1278], zoom_start=10)\n",
    "\n",
    "\n",
    "# Add centroid points to the map, make them red:\n",
    "for idx, row in lsoa_london.iterrows():\n",
    "    folium.Marker(location=[row['lat'], row['lon']], icon=folium.Icon(color='red')).add_to(m)\n",
    "\n",
    "# save the map as an html file\n",
    "m.save(r'/mnt/d/University College London/Chen, Huanfa - Dissertation_Mengyu_Ding/Data/maps/lsoa_london.html')"
   ]
  },
  {
   "cell_type": "code",
   "execution_count": null,
   "metadata": {},
   "outputs": [],
   "source": [
    "m"
   ]
  },
  {
   "cell_type": "markdown",
   "metadata": {},
   "source": [
    "check total numbers:"
   ]
  },
  {
   "cell_type": "code",
   "execution_count": 45,
   "metadata": {},
   "outputs": [
    {
     "data": {
      "text/plain": [
       "(4835, 7)"
      ]
     },
     "execution_count": 45,
     "metadata": {},
     "output_type": "execute_result"
    }
   ],
   "source": [
    "lsoa_london.shape"
   ]
  },
  {
   "cell_type": "code",
   "execution_count": 46,
   "metadata": {},
   "outputs": [
    {
     "data": {
      "text/html": [
       "<div>\n",
       "<style scoped>\n",
       "    .dataframe tbody tr th:only-of-type {\n",
       "        vertical-align: middle;\n",
       "    }\n",
       "\n",
       "    .dataframe tbody tr th {\n",
       "        vertical-align: top;\n",
       "    }\n",
       "\n",
       "    .dataframe thead th {\n",
       "        text-align: right;\n",
       "    }\n",
       "</style>\n",
       "<table border=\"1\" class=\"dataframe\">\n",
       "  <thead>\n",
       "    <tr style=\"text-align: right;\">\n",
       "      <th></th>\n",
       "      <th>code</th>\n",
       "      <th>name</th>\n",
       "      <th>label</th>\n",
       "      <th>geometry</th>\n",
       "      <th>centroid</th>\n",
       "      <th>northings</th>\n",
       "      <th>eastings</th>\n",
       "    </tr>\n",
       "  </thead>\n",
       "  <tbody>\n",
       "    <tr>\n",
       "      <th>0</th>\n",
       "      <td>E01000037</td>\n",
       "      <td>Barking and Dagenham 003B</td>\n",
       "      <td>E09000002E02000004E01000037</td>\n",
       "      <td>POLYGON ((551549.998 187364.637, 551528.633 18...</td>\n",
       "      <td>POINT (551171.300 187099.695)</td>\n",
       "      <td>187099.694903</td>\n",
       "      <td>551171.300398</td>\n",
       "    </tr>\n",
       "    <tr>\n",
       "      <th>1</th>\n",
       "      <td>E01000038</td>\n",
       "      <td>Barking and Dagenham 003C</td>\n",
       "      <td>E09000002E02000004E01000038</td>\n",
       "      <td>POLYGON ((550920.362 187341.138, 550921.876 18...</td>\n",
       "      <td>POINT (550724.067 187156.350)</td>\n",
       "      <td>187156.350014</td>\n",
       "      <td>550724.066657</td>\n",
       "    </tr>\n",
       "    <tr>\n",
       "      <th>2</th>\n",
       "      <td>E01000039</td>\n",
       "      <td>Barking and Dagenham 003D</td>\n",
       "      <td>E09000002E02000004E01000039</td>\n",
       "      <td>POLYGON ((551431.061 186927.155, 551444.481 18...</td>\n",
       "      <td>POINT (551151.315 186008.750)</td>\n",
       "      <td>186008.749694</td>\n",
       "      <td>551151.315469</td>\n",
       "    </tr>\n",
       "    <tr>\n",
       "      <th>3</th>\n",
       "      <td>E01000040</td>\n",
       "      <td>Barking and Dagenham 019A</td>\n",
       "      <td>E09000002E02000020E01000040</td>\n",
       "      <td>POLYGON ((545806.481 184158.048, 545806.760 18...</td>\n",
       "      <td>POINT (545566.921 184054.130)</td>\n",
       "      <td>184054.130064</td>\n",
       "      <td>545566.920722</td>\n",
       "    </tr>\n",
       "    <tr>\n",
       "      <th>4</th>\n",
       "      <td>E01000041</td>\n",
       "      <td>Barking and Dagenham 017A</td>\n",
       "      <td>E09000002E02000018E01000041</td>\n",
       "      <td>POLYGON ((547256.387 184393.166, 547256.625 18...</td>\n",
       "      <td>POINT (546856.993 184261.790)</td>\n",
       "      <td>184261.789764</td>\n",
       "      <td>546856.992549</td>\n",
       "    </tr>\n",
       "  </tbody>\n",
       "</table>\n",
       "</div>"
      ],
      "text/plain": [
       "        code                       name                        label  \\\n",
       "0  E01000037  Barking and Dagenham 003B  E09000002E02000004E01000037   \n",
       "1  E01000038  Barking and Dagenham 003C  E09000002E02000004E01000038   \n",
       "2  E01000039  Barking and Dagenham 003D  E09000002E02000004E01000039   \n",
       "3  E01000040  Barking and Dagenham 019A  E09000002E02000020E01000040   \n",
       "4  E01000041  Barking and Dagenham 017A  E09000002E02000018E01000041   \n",
       "\n",
       "                                            geometry  \\\n",
       "0  POLYGON ((551549.998 187364.637, 551528.633 18...   \n",
       "1  POLYGON ((550920.362 187341.138, 550921.876 18...   \n",
       "2  POLYGON ((551431.061 186927.155, 551444.481 18...   \n",
       "3  POLYGON ((545806.481 184158.048, 545806.760 18...   \n",
       "4  POLYGON ((547256.387 184393.166, 547256.625 18...   \n",
       "\n",
       "                        centroid      northings       eastings  \n",
       "0  POINT (551171.300 187099.695)  187099.694903  551171.300398  \n",
       "1  POINT (550724.067 187156.350)  187156.350014  550724.066657  \n",
       "2  POINT (551151.315 186008.750)  186008.749694  551151.315469  \n",
       "3  POINT (545566.921 184054.130)  184054.130064  545566.920722  \n",
       "4  POINT (546856.993 184261.790)  184261.789764  546856.992549  "
      ]
     },
     "execution_count": 46,
     "metadata": {},
     "output_type": "execute_result"
    }
   ],
   "source": [
    "lsoa_london.head()"
   ]
  },
  {
   "cell_type": "code",
   "execution_count": null,
   "metadata": {},
   "outputs": [],
   "source": [
    "# save code, name, latitude and longitude to a new dataframe\n",
    "#lsoa_london_df = lsoa_london[['code', 'name', 'northings', 'eastings']]"
   ]
  },
  {
   "cell_type": "markdown",
   "metadata": {},
   "source": [
    "Now get all centroids and save to a csv:"
   ]
  },
  {
   "cell_type": "code",
   "execution_count": 60,
   "metadata": {},
   "outputs": [],
   "source": [
    "# save code, name, latitude and longitude to a new dataframe\n",
    "lsoa_london_df = lsoa_london[['code', 'name', 'lat', 'lon']]\n",
    "\n",
    "# save to csv\n",
    "lsoa_london_df.to_csv(r'/mnt/d/University College London/Chen, Huanfa - Dissertation_Mengyu_Ding/Data/lsoa_centroids/gld_lsoa_centroids.csv', index=False)"
   ]
  },
  {
   "cell_type": "code",
   "execution_count": null,
   "metadata": {},
   "outputs": [],
   "source": []
  }
 ],
 "metadata": {
  "kernelspec": {
   "display_name": "Python 3",
   "language": "python",
   "name": "python3"
  },
  "language_info": {
   "codemirror_mode": {
    "name": "ipython",
    "version": 3
   },
   "file_extension": ".py",
   "mimetype": "text/x-python",
   "name": "python",
   "nbconvert_exporter": "python",
   "pygments_lexer": "ipython3",
   "version": "3.10.12"
  }
 },
 "nbformat": 4,
 "nbformat_minor": 2
}
