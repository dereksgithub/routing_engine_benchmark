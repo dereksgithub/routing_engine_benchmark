{
 "cells": [
  {
   "cell_type": "markdown",
   "metadata": {},
   "source": [
    "# Part 1:\n",
    "In this notebook, we classify all lsoas to reduce the request size to 100 x 100 matrix (or 200 x 200) according to API usage limit."
   ]
  },
  {
   "cell_type": "code",
   "execution_count": null,
   "metadata": {},
   "outputs": [],
   "source": []
  },
  {
   "cell_type": "markdown",
   "metadata": {},
   "source": [
    "Potential methods:\n",
    "\n",
    "Cluster the LSOA census data? \n",
    "\n",
    "Compare the driving experience in more deprived areas vs relatively affluent areas?"
   ]
  },
  {
   "cell_type": "code",
   "execution_count": null,
   "metadata": {},
   "outputs": [],
   "source": []
  }
 ],
 "metadata": {
  "language_info": {
   "name": "python"
  }
 },
 "nbformat": 4,
 "nbformat_minor": 2
}
